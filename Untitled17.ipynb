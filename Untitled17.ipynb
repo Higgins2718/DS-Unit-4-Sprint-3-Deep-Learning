{
  "nbformat": 4,
  "nbformat_minor": 0,
  "metadata": {
    "colab": {
      "name": "Untitled17.ipynb",
      "version": "0.3.2",
      "provenance": [],
      "include_colab_link": true
    },
    "kernelspec": {
      "name": "python3",
      "display_name": "Python 3"
    }
  },
  "cells": [
    {
      "cell_type": "markdown",
      "metadata": {
        "id": "view-in-github",
        "colab_type": "text"
      },
      "source": [
        "<a href=\"https://colab.research.google.com/github/Higgins2718/DS-Unit-4-Sprint-3-Deep-Learning/blob/master/Untitled17.ipynb\" target=\"_parent\"><img src=\"https://colab.research.google.com/assets/colab-badge.svg\" alt=\"Open In Colab\"/></a>"
      ]
    },
    {
      "cell_type": "code",
      "metadata": {
        "id": "gcUkrZF01ZX-",
        "colab_type": "code",
        "outputId": "39cb9787-d54f-4712-9af5-d4b0ed4cb5bd",
        "colab": {
          "base_uri": "https://localhost:8080/",
          "height": 199
        }
      },
      "source": [
        "!pip install emoji_data_python"
      ],
      "execution_count": 0,
      "outputs": [
        {
          "output_type": "stream",
          "text": [
            "Collecting emoji_data_python\n",
            "\u001b[?25l  Downloading https://files.pythonhosted.org/packages/63/8c/b72f10e2e602e825553d0a258fa11e3e3b5014e8968baba4650b421cb615/emoji_data_python-1.1.0.tar.gz (81kB)\n",
            "\u001b[K     |████████████████████████████████| 81kB 3.1MB/s \n",
            "\u001b[?25hBuilding wheels for collected packages: emoji-data-python\n",
            "  Building wheel for emoji-data-python (setup.py) ... \u001b[?25l\u001b[?25hdone\n",
            "  Stored in directory: /root/.cache/pip/wheels/ce/50/87/ae01673e45b9bd9c826a1b868a0e5a6b856e2e52cdf0f81c0d\n",
            "Successfully built emoji-data-python\n",
            "Installing collected packages: emoji-data-python\n",
            "Successfully installed emoji-data-python-1.1.0\n"
          ],
          "name": "stdout"
        }
      ]
    },
    {
      "cell_type": "code",
      "metadata": {
        "id": "HlL0K-7K1p5Y",
        "colab_type": "code",
        "colab": {}
      },
      "source": [
        "!wget https://github.com/LambdaSchool/DS-Unit-4-Sprint-4-Deep-Learning/raw/master/module3-generative-adversarial-networks/emoji.zip\n",
        "!unzip emoji.zip"
      ],
      "execution_count": 0,
      "outputs": []
    },
    {
      "cell_type": "code",
      "metadata": {
        "id": "Lrztf94p1vRL",
        "colab_type": "code",
        "colab": {}
      },
      "source": [
        "import imageio\n",
        "import matplotlib.pyplot as plt\n",
        "from skimage import color\n",
        "\n",
        "#example_emoji = imageio.imread('emoji/1f683.png')\n",
        "#grayscale_emoji = color.rgb2gray(example_emoji)"
      ],
      "execution_count": 0,
      "outputs": []
    },
    {
      "cell_type": "code",
      "metadata": {
        "id": "k3Cot_Eo2MIQ",
        "colab_type": "code",
        "outputId": "36a0d890-64d5-4013-f48b-ab2d7e340324",
        "colab": {
          "base_uri": "https://localhost:8080/",
          "height": 35
        }
      },
      "source": [
        "ls"
      ],
      "execution_count": 3,
      "outputs": [
        {
          "output_type": "stream",
          "text": [
            "\u001b[0m\u001b[01;34memoji\u001b[0m/  emoji.zip  \u001b[01;34msample_data\u001b[0m/\n"
          ],
          "name": "stdout"
        }
      ]
    },
    {
      "cell_type": "code",
      "metadata": {
        "id": "bUPYiWC8aynY",
        "colab_type": "code",
        "colab": {}
      },
      "source": [
        "import os\n",
        "import PIL.Image\n",
        "import matplotlib\n",
        "from keras.preprocessing.image import load_img\n",
        "from keras.preprocessing.image import save_img\n",
        "from keras.preprocessing.image import img_to_array\n",
        "import os\n",
        "\n",
        "\n",
        "def load_data():\n",
        "    emojis = os.listdir('emoji')\n",
        "    for f in emojis:\n",
        "      # load image as as grayscale\n",
        "      img = load_img(\"emoji/\"+f, grayscale=True)\n",
        "      # convert image to a numpy array\n",
        "      img_array = img_to_array(img)\n",
        "      # save the image with a new filename\n",
        "      save_img(\"emoji/\"+f, img_array)\n",
        "      # load the image to confirm it was saved correctly\n",
        "      img = load_img(\"emoji/\"+f)\n",
        "      #print(type(img))\n",
        "      #print(img.format)\n",
        "      #print(img.mode)\n",
        "      #print(img.size)\n",
        "    images_list = []\n",
        "\n",
        "    for f in os.listdir(\"emoji\"):\n",
        "      image = mpimg.imread(\"emoji/\"+f)\n",
        "      images_list.append(image)\n",
        "    \n",
        "    images = np.array(images_list)\n",
        "      #img.show()\n",
        "    # normalize our inputs to be in the range[-1, 1] \n",
        "    x_train = (images.astype(np.float32) - 127.5)/127.5\n",
        "    # convert x_train with a shape of (60000, 28, 28) to (60000, 784) so we have\n",
        "    # 784 columns per row\n",
        "    print(x_train.shape)\n",
        "\n",
        "    x_train = x_train.reshape(861, 784)\n",
        "    return (x_train)"
      ],
      "execution_count": 0,
      "outputs": []
    },
    {
      "cell_type": "code",
      "metadata": {
        "id": "DcnUWz0g2EBN",
        "colab_type": "code",
        "colab": {}
      },
      "source": [
        ""
      ],
      "execution_count": 0,
      "outputs": []
    },
    {
      "cell_type": "code",
      "metadata": {
        "id": "JT9bf1VFAoyG",
        "colab_type": "code",
        "colab": {}
      },
      "source": [
        "emojis = os.listdir('emoji')\n",
        "for emoji in emojis:\n",
        "  print(emoji)"
      ],
      "execution_count": 0,
      "outputs": []
    },
    {
      "cell_type": "code",
      "metadata": {
        "id": "pGuohaBHAvHw",
        "colab_type": "code",
        "colab": {}
      },
      "source": [
        "example_emoji = imageio.imread('emoji/1f683.png')\n",
        "grayscale_emoji = color.rgb2gray(example_emoji)"
      ],
      "execution_count": 0,
      "outputs": []
    },
    {
      "cell_type": "code",
      "metadata": {
        "id": "hq9ivu1OAx3_",
        "colab_type": "code",
        "outputId": "28ae9166-6fe0-4d26-a17a-5ce6595e655c",
        "colab": {
          "base_uri": "https://localhost:8080/",
          "height": 269
        }
      },
      "source": [
        "plt.imshow(grayscale_emoji, cmap=\"gray\");"
      ],
      "execution_count": 10,
      "outputs": [
        {
          "output_type": "display_data",
          "data": {
            "image/png": "[encoded data removed]",
            "text/plain": [
              "<Figure size 432x288 with 1 Axes>"
            ]
          },
          "metadata": {
            "tags": []
          }
        }
      ]
    },
    {
      "cell_type": "code",
      "metadata": {
        "id": "8wUBK6jUA_hC",
        "colab_type": "code",
        "colab": {}
      },
      "source": [
        "import os\n",
        "import numpy as np\n",
        "import matplotlib.pyplot as plt\n",
        "from tqdm import tqdm  # performance timing\n",
        "\n",
        "# Building on Keras\n",
        "from keras.layers import Input\n",
        "from keras.models import Model, Sequential\n",
        "from keras.layers.core import Dense, Dropout\n",
        "from keras.layers.advanced_activations import LeakyReLU\n",
        "from keras.datasets import fashion_mnist\n",
        "from keras.optimizers import Adam\n",
        "from keras import initializers"
      ],
      "execution_count": 0,
      "outputs": []
    },
    {
      "cell_type": "code",
      "metadata": {
        "id": "6tn-FLvRBTBk",
        "colab_type": "code",
        "colab": {}
      },
      "source": [
        "def get_discriminator(optimizer):\n",
        "    discriminator = Sequential()\n",
        "    discriminator.add(Dense(\n",
        "        1024, input_dim=784,\n",
        "        kernel_initializer=initializers.RandomNormal(stddev=0.02)))\n",
        "    discriminator.add(LeakyReLU(0.2))\n",
        "    discriminator.add(Dropout(0.3))\n",
        " \n",
        "    discriminator.add(Dense(512))\n",
        "    discriminator.add(LeakyReLU(0.2))\n",
        "    discriminator.add(Dropout(0.3))\n",
        " \n",
        "    discriminator.add(Dense(256))\n",
        "    discriminator.add(LeakyReLU(0.2))\n",
        "    discriminator.add(Dropout(0.3))\n",
        " \n",
        "    discriminator.add(Dense(1, activation='sigmoid'))\n",
        "    discriminator.compile(loss='binary_crossentropy', optimizer=optimizer)\n",
        "    return discriminator\n",
        "\n",
        "def get_generator(optimizer):\n",
        "    generator = Sequential()\n",
        "    generator.add(Dense(\n",
        "        256, input_dim=random_dim,\n",
        "        kernel_initializer=initializers.RandomNormal(stddev=0.02)))\n",
        "    generator.add(LeakyReLU(0.2))\n",
        " \n",
        "    generator.add(Dense(512))\n",
        "    generator.add(LeakyReLU(0.2))\n",
        " \n",
        "    generator.add(Dense(1024))\n",
        "    generator.add(LeakyReLU(0.2))\n",
        " \n",
        "    generator.add(Dense(784, activation='tanh'))\n",
        "    generator.compile(loss='binary_crossentropy', optimizer=optimizer)\n",
        "    return generator\n",
        "\n",
        "def get_gan_network(discriminator, random_dim, generator, optimizer):\n",
        "    # We initially set trainable to False since we only want to train either the \n",
        "    # generator or discriminator at a time\n",
        "    discriminator.trainable = False\n",
        "    # gan input (noise) will be 100-dimensional vectors\n",
        "    gan_input = Input(shape=(random_dim,))\n",
        "    # the output of the generator (an image)\n",
        "    x = generator(gan_input)\n",
        "    # get the output of the discriminator (probability if the image is real/not)\n",
        "    gan_output = discriminator(x)\n",
        "    gan = Model(inputs=gan_input, outputs=gan_output)\n",
        "    gan.compile(loss='binary_crossentropy', optimizer=optimizer)\n",
        "    return gan\n",
        "\n",
        "def plot_generated_images(epoch, generator, examples=100, dim=(10, 10),\n",
        "                          figsize=(10, 10)):\n",
        "    noise = np.random.normal(0, 1, size=[examples, random_dim])\n",
        "    generated_images = generator.predict(noise)\n",
        "    generated_images = generated_images.reshape(examples, 28, 28)\n",
        " \n",
        "    plt.figure(figsize=figsize)\n",
        "    for i in range(generated_images.shape[0]):\n",
        "        plt.subplot(dim[0], dim[1], i+1)\n",
        "        plt.imshow(generated_images[i], interpolation='nearest', cmap='gray_r')\n",
        "        plt.axis('off')\n",
        "    plt.tight_layout()\n",
        "    plt.savefig('gan_generated_image_epoch_%d.png' % epoch)"
      ],
      "execution_count": 0,
      "outputs": []
    },
    {
      "cell_type": "code",
      "metadata": {
        "id": "IxkFEP92DHQQ",
        "colab_type": "code",
        "colab": {}
      },
      "source": [
        "import matplotlib.image as mpimg\n",
        "\n",
        "#images = [mpimg.imread(\"emoji/\"+f) for f in os.listdir(\"emoji\")]\n"
      ],
      "execution_count": 0,
      "outputs": []
    },
    {
      "cell_type": "code",
      "metadata": {
        "id": "ICjraWUi6LjO",
        "colab_type": "code",
        "outputId": "7c55870a-4dcf-45d2-96c7-dc6724dad465",
        "colab": {
          "base_uri": "https://localhost:8080/",
          "height": 1000
        }
      },
      "source": [
        "np.random.seed(10)\n",
        "random_dim = 100\n",
        "\n",
        "def train(epochs=100, batch_size=168):\n",
        "    # Get the training and testing data\n",
        "    x_train = load_data()\n",
        "    # Split the training data into batches of size 128\n",
        "    batch_count = x_train.shape[0] // batch_size\n",
        " \n",
        "    # Build our GAN netowrk\n",
        "    adam = Adam(lr=0.0002, beta_1=0.5)\n",
        "    generator = get_generator(adam)\n",
        "    discriminator = get_discriminator(adam)\n",
        "    gan = get_gan_network(discriminator, random_dim, generator, adam)\n",
        " \n",
        "    for e in range(1, epochs+1):\n",
        "        print ('-'*15, 'Epoch %d' % e, '-'*15)\n",
        "        for _ in tqdm(range(batch_count)):\n",
        "            # Get a random set of input noise and images\n",
        "            noise = np.random.normal(0, 1, size=[batch_size, random_dim])\n",
        "            image_batch = x_train[np.random.randint(0, x_train.shape[0],\n",
        "                                                    size=batch_size)]\n",
        " \n",
        "            # Generate fake MNIST images\n",
        "            generated_images = generator.predict(noise)\n",
        "            X = np.concatenate([image_batch, generated_images])\n",
        " \n",
        "            # Labels for generated and real data\n",
        "            y_dis = np.zeros(2*batch_size)\n",
        "            # One-sided label smoothing\n",
        "            y_dis[:batch_size] = 0.9\n",
        " \n",
        "            # Train discriminator\n",
        "            discriminator.trainable = True\n",
        "            discriminator.train_on_batch(X, y_dis)\n",
        " \n",
        "            # Train generator\n",
        "            noise = np.random.normal(0, 1, size=[batch_size, random_dim])\n",
        "            y_gen = np.ones(batch_size)\n",
        "            discriminator.trainable = False\n",
        "            gan.train_on_batch(noise, y_gen)\n",
        " \n",
        "        if e == 10000 or e % 20 == 0:\n",
        "            plot_generated_images(e, generator)\n",
        " \n",
        "train(10000, 32)"
      ],
      "execution_count": 0,
      "outputs": [
        {
          "output_type": "stream",
          "text": [
            "/usr/local/lib/python3.6/dist-packages/keras_preprocessing/image/utils.py:104: UserWarning: grayscale is deprecated. Please use color_mode = \"grayscale\"\n",
            "  warnings.warn('grayscale is deprecated. Please use '\n"
          ],
          "name": "stderr"
        },
        {
          "output_type": "stream",
          "text": [
            "(861, 28, 28)\n"
          ],
          "name": "stdout"
        },
        {
          "output_type": "stream",
          "text": [
            "\r  0%|          | 0/26 [00:00<?, ?it/s]"
          ],
          "name": "stderr"
        },
        {
          "output_type": "stream",
          "text": [
            "--------------- Epoch 1 ---------------\n"
          ],
          "name": "stdout"
        },
        {
          "output_type": "stream",
          "text": [
            "100%|██████████| 26/26 [00:19<00:00,  3.82it/s]\n",
            "  8%|▊         | 2/26 [00:00<00:02, 10.69it/s]"
          ],
          "name": "stderr"
        },
        {
          "output_type": "stream",
          "text": [
            "--------------- Epoch 2 ---------------\n"
          ],
          "name": "stdout"
        },
        {
          "output_type": "stream",
          "text": [
            "100%|██████████| 26/26 [00:02<00:00, 10.29it/s]\n",
            "  0%|          | 0/26 [00:00<?, ?it/s]"
          ],
          "name": "stderr"
        },
        {
          "output_type": "stream",
          "text": [
            "--------------- Epoch 3 ---------------\n"
          ],
          "name": "stdout"
        },
        {
          "output_type": "stream",
          "text": [
            "100%|██████████| 26/26 [00:02<00:00, 10.71it/s]\n",
            "  8%|▊         | 2/26 [00:00<00:02, 10.66it/s]"
          ],
          "name": "stderr"
        },
        {
          "output_type": "stream",
          "text": [
            "--------------- Epoch 4 ---------------\n"
          ],
          "name": "stdout"
        },
        {
          "output_type": "stream",
          "text": [
            "100%|██████████| 26/26 [00:02<00:00, 10.26it/s]\n",
            "  8%|▊         | 2/26 [00:00<00:02, 10.71it/s]"
          ],
          "name": "stderr"
        },
        {
          "output_type": "stream",
          "text": [
            "--------------- Epoch 5 ---------------\n"
          ],
          "name": "stdout"
        },
        {
          "output_type": "stream",
          "text": [
            "100%|██████████| 26/26 [00:02<00:00, 10.57it/s]\n",
            "  8%|▊         | 2/26 [00:00<00:02, 10.50it/s]"
          ],
          "name": "stderr"
        },
        {
          "output_type": "stream",
          "text": [
            "--------------- Epoch 6 ---------------\n"
          ],
          "name": "stdout"
        },
        {
          "output_type": "stream",
          "text": [
            "100%|██████████| 26/26 [00:02<00:00, 10.49it/s]\n",
            "  8%|▊         | 2/26 [00:00<00:02, 10.43it/s]"
          ],
          "name": "stderr"
        },
        {
          "output_type": "stream",
          "text": [
            "--------------- Epoch 7 ---------------\n"
          ],
          "name": "stdout"
        },
        {
          "output_type": "stream",
          "text": [
            "100%|██████████| 26/26 [00:02<00:00, 10.46it/s]\n",
            "  8%|▊         | 2/26 [00:00<00:02, 10.88it/s]"
          ],
          "name": "stderr"
        },
        {
          "output_type": "stream",
          "text": [
            "--------------- Epoch 8 ---------------\n"
          ],
          "name": "stdout"
        },
        {
          "output_type": "stream",
          "text": [
            "100%|██████████| 26/26 [00:02<00:00, 10.71it/s]\n",
            "  4%|▍         | 1/26 [00:00<00:02,  9.94it/s]"
          ],
          "name": "stderr"
        },
        {
          "output_type": "stream",
          "text": [
            "--------------- Epoch 9 ---------------\n"
          ],
          "name": "stdout"
        },
        {
          "output_type": "stream",
          "text": [
            "100%|██████████| 26/26 [00:02<00:00, 10.92it/s]\n",
            "  8%|▊         | 2/26 [00:00<00:02, 10.71it/s]"
          ],
          "name": "stderr"
        },
        {
          "output_type": "stream",
          "text": [
            "--------------- Epoch 10 ---------------\n"
          ],
          "name": "stdout"
        },
        {
          "output_type": "stream",
          "text": [
            "100%|██████████| 26/26 [00:02<00:00, 10.80it/s]\n",
            "  8%|▊         | 2/26 [00:00<00:02, 10.25it/s]"
          ],
          "name": "stderr"
        },
        {
          "output_type": "stream",
          "text": [
            "--------------- Epoch 11 ---------------\n"
          ],
          "name": "stdout"
        },
        {
          "output_type": "stream",
          "text": [
            "100%|██████████| 26/26 [00:02<00:00, 10.63it/s]\n",
            "  8%|▊         | 2/26 [00:00<00:02, 10.53it/s]"
          ],
          "name": "stderr"
        },
        {
          "output_type": "stream",
          "text": [
            "--------------- Epoch 12 ---------------\n"
          ],
          "name": "stdout"
        },
        {
          "output_type": "stream",
          "text": [
            "100%|██████████| 26/26 [00:02<00:00, 10.83it/s]\n",
            "  8%|▊         | 2/26 [00:00<00:02, 10.69it/s]"
          ],
          "name": "stderr"
        },
        {
          "output_type": "stream",
          "text": [
            "--------------- Epoch 13 ---------------\n"
          ],
          "name": "stdout"
        },
        {
          "output_type": "stream",
          "text": [
            "100%|██████████| 26/26 [00:02<00:00, 10.50it/s]\n",
            "  4%|▍         | 1/26 [00:00<00:02,  9.51it/s]"
          ],
          "name": "stderr"
        },
        {
          "output_type": "stream",
          "text": [
            "--------------- Epoch 14 ---------------\n"
          ],
          "name": "stdout"
        },
        {
          "output_type": "stream",
          "text": [
            "100%|██████████| 26/26 [00:02<00:00, 10.58it/s]\n",
            "  4%|▍         | 1/26 [00:00<00:02,  9.83it/s]"
          ],
          "name": "stderr"
        },
        {
          "output_type": "stream",
          "text": [
            "--------------- Epoch 15 ---------------\n"
          ],
          "name": "stdout"
        },
        {
          "output_type": "stream",
          "text": [
            "100%|██████████| 26/26 [00:02<00:00, 10.46it/s]\n",
            "  8%|▊         | 2/26 [00:00<00:02, 10.53it/s]"
          ],
          "name": "stderr"
        },
        {
          "output_type": "stream",
          "text": [
            "--------------- Epoch 16 ---------------\n"
          ],
          "name": "stdout"
        },
        {
          "output_type": "stream",
          "text": [
            "100%|██████████| 26/26 [00:02<00:00, 10.53it/s]\n",
            "  8%|▊         | 2/26 [00:00<00:02, 10.33it/s]"
          ],
          "name": "stderr"
        },
        {
          "output_type": "stream",
          "text": [
            "--------------- Epoch 17 ---------------\n"
          ],
          "name": "stdout"
        },
        {
          "output_type": "stream",
          "text": [
            "100%|██████████| 26/26 [00:02<00:00, 10.48it/s]\n",
            "  8%|▊         | 2/26 [00:00<00:02, 10.85it/s]"
          ],
          "name": "stderr"
        },
        {
          "output_type": "stream",
          "text": [
            "--------------- Epoch 18 ---------------\n"
          ],
          "name": "stdout"
        },
        {
          "output_type": "stream",
          "text": [
            "100%|██████████| 26/26 [00:02<00:00, 10.63it/s]\n",
            "  8%|▊         | 2/26 [00:00<00:02, 10.86it/s]"
          ],
          "name": "stderr"
        },
        {
          "output_type": "stream",
          "text": [
            "--------------- Epoch 19 ---------------\n"
          ],
          "name": "stdout"
        },
        {
          "output_type": "stream",
          "text": [
            "100%|██████████| 26/26 [00:02<00:00, 10.60it/s]\n",
            "  8%|▊         | 2/26 [00:00<00:02, 10.62it/s]"
          ],
          "name": "stderr"
        },
        {
          "output_type": "stream",
          "text": [
            "--------------- Epoch 20 ---------------\n"
          ],
          "name": "stdout"
        },
        {
          "output_type": "stream",
          "text": [
            "100%|██████████| 26/26 [00:02<00:00, 10.49it/s]\n",
            "  8%|▊         | 2/26 [00:00<00:02, 10.78it/s]"
          ],
          "name": "stderr"
        },
        {
          "output_type": "stream",
          "text": [
            "--------------- Epoch 21 ---------------\n"
          ],
          "name": "stdout"
        },
        {
          "output_type": "stream",
          "text": [
            "100%|██████████| 26/26 [00:02<00:00, 10.68it/s]\n",
            "  8%|▊         | 2/26 [00:00<00:02, 10.92it/s]"
          ],
          "name": "stderr"
        },
        {
          "output_type": "stream",
          "text": [
            "--------------- Epoch 22 ---------------\n"
          ],
          "name": "stdout"
        },
        {
          "output_type": "stream",
          "text": [
            "100%|██████████| 26/26 [00:02<00:00, 10.66it/s]\n",
            "  8%|▊         | 2/26 [00:00<00:02, 10.48it/s]"
          ],
          "name": "stderr"
        },
        {
          "output_type": "stream",
          "text": [
            "--------------- Epoch 23 ---------------\n"
          ],
          "name": "stdout"
        },
        {
          "output_type": "stream",
          "text": [
            "100%|██████████| 26/26 [00:02<00:00, 10.76it/s]\n",
            "  4%|▍         | 1/26 [00:00<00:02,  9.90it/s]"
          ],
          "name": "stderr"
        },
        {
          "output_type": "stream",
          "text": [
            "--------------- Epoch 24 ---------------\n"
          ],
          "name": "stdout"
        },
        {
          "output_type": "stream",
          "text": [
            "100%|██████████| 26/26 [00:02<00:00, 10.67it/s]\n",
            "  4%|▍         | 1/26 [00:00<00:02,  9.98it/s]"
          ],
          "name": "stderr"
        },
        {
          "output_type": "stream",
          "text": [
            "--------------- Epoch 25 ---------------\n"
          ],
          "name": "stdout"
        },
        {
          "output_type": "stream",
          "text": [
            "100%|██████████| 26/26 [00:02<00:00, 10.57it/s]\n",
            "  8%|▊         | 2/26 [00:00<00:02, 10.66it/s]"
          ],
          "name": "stderr"
        },
        {
          "output_type": "stream",
          "text": [
            "--------------- Epoch 26 ---------------\n"
          ],
          "name": "stdout"
        },
        {
          "output_type": "stream",
          "text": [
            "100%|██████████| 26/26 [00:02<00:00, 10.82it/s]\n",
            "  8%|▊         | 2/26 [00:00<00:02, 10.65it/s]"
          ],
          "name": "stderr"
        },
        {
          "output_type": "stream",
          "text": [
            "--------------- Epoch 27 ---------------\n"
          ],
          "name": "stdout"
        },
        {
          "output_type": "stream",
          "text": [
            "100%|██████████| 26/26 [00:02<00:00, 10.75it/s]\n",
            "  4%|▍         | 1/26 [00:00<00:02,  9.83it/s]"
          ],
          "name": "stderr"
        },
        {
          "output_type": "stream",
          "text": [
            "--------------- Epoch 28 ---------------\n"
          ],
          "name": "stdout"
        },
        {
          "output_type": "stream",
          "text": [
            "100%|██████████| 26/26 [00:02<00:00, 10.84it/s]\n",
            "  8%|▊         | 2/26 [00:00<00:02, 10.85it/s]"
          ],
          "name": "stderr"
        },
        {
          "output_type": "stream",
          "text": [
            "--------------- Epoch 29 ---------------\n"
          ],
          "name": "stdout"
        },
        {
          "output_type": "stream",
          "text": [
            "100%|██████████| 26/26 [00:02<00:00, 10.62it/s]\n",
            "  8%|▊         | 2/26 [00:00<00:02, 10.53it/s]"
          ],
          "name": "stderr"
        },
        {
          "output_type": "stream",
          "text": [
            "--------------- Epoch 30 ---------------\n"
          ],
          "name": "stdout"
        },
        {
          "output_type": "stream",
          "text": [
            "100%|██████████| 26/26 [00:02<00:00, 10.81it/s]\n",
            "  8%|▊         | 2/26 [00:00<00:02, 10.47it/s]"
          ],
          "name": "stderr"
        },
        {
          "output_type": "stream",
          "text": [
            "--------------- Epoch 31 ---------------\n"
          ],
          "name": "stdout"
        },
        {
          "output_type": "stream",
          "text": [
            "100%|██████████| 26/26 [00:02<00:00, 10.63it/s]\n",
            "  4%|▍         | 1/26 [00:00<00:02,  9.32it/s]"
          ],
          "name": "stderr"
        },
        {
          "output_type": "stream",
          "text": [
            "--------------- Epoch 32 ---------------\n"
          ],
          "name": "stdout"
        },
        {
          "output_type": "stream",
          "text": [
            "100%|██████████| 26/26 [00:02<00:00, 10.70it/s]\n",
            "  8%|▊         | 2/26 [00:00<00:02, 10.28it/s]"
          ],
          "name": "stderr"
        },
        {
          "output_type": "stream",
          "text": [
            "--------------- Epoch 33 ---------------\n"
          ],
          "name": "stdout"
        },
        {
          "output_type": "stream",
          "text": [
            "100%|██████████| 26/26 [00:02<00:00, 10.74it/s]\n",
            "  0%|          | 0/26 [00:00<?, ?it/s]"
          ],
          "name": "stderr"
        },
        {
          "output_type": "stream",
          "text": [
            "--------------- Epoch 34 ---------------\n"
          ],
          "name": "stdout"
        },
        {
          "output_type": "stream",
          "text": [
            "100%|██████████| 26/26 [00:02<00:00, 10.56it/s]\n",
            "  8%|▊         | 2/26 [00:00<00:02, 10.46it/s]"
          ],
          "name": "stderr"
        },
        {
          "output_type": "stream",
          "text": [
            "--------------- Epoch 35 ---------------\n"
          ],
          "name": "stdout"
        },
        {
          "output_type": "stream",
          "text": [
            "100%|██████████| 26/26 [00:02<00:00, 10.67it/s]\n",
            "  8%|▊         | 2/26 [00:00<00:02, 11.09it/s]"
          ],
          "name": "stderr"
        },
        {
          "output_type": "stream",
          "text": [
            "--------------- Epoch 36 ---------------\n"
          ],
          "name": "stdout"
        },
        {
          "output_type": "stream",
          "text": [
            "100%|██████████| 26/26 [00:02<00:00, 10.70it/s]\n",
            "  4%|▍         | 1/26 [00:00<00:02,  9.96it/s]"
          ],
          "name": "stderr"
        },
        {
          "output_type": "stream",
          "text": [
            "--------------- Epoch 37 ---------------\n"
          ],
          "name": "stdout"
        },
        {
          "output_type": "stream",
          "text": [
            "100%|██████████| 26/26 [00:02<00:00, 10.67it/s]\n",
            "  8%|▊         | 2/26 [00:00<00:02, 10.99it/s]"
          ],
          "name": "stderr"
        },
        {
          "output_type": "stream",
          "text": [
            "--------------- Epoch 38 ---------------\n"
          ],
          "name": "stdout"
        },
        {
          "output_type": "stream",
          "text": [
            "100%|██████████| 26/26 [00:02<00:00, 10.65it/s]\n",
            "  4%|▍         | 1/26 [00:00<00:02, 10.00it/s]"
          ],
          "name": "stderr"
        },
        {
          "output_type": "stream",
          "text": [
            "--------------- Epoch 39 ---------------\n"
          ],
          "name": "stdout"
        },
        {
          "output_type": "stream",
          "text": [
            "100%|██████████| 26/26 [00:02<00:00, 10.64it/s]\n",
            "  8%|▊         | 2/26 [00:00<00:02, 10.79it/s]"
          ],
          "name": "stderr"
        },
        {
          "output_type": "stream",
          "text": [
            "--------------- Epoch 40 ---------------\n"
          ],
          "name": "stdout"
        },
        {
          "output_type": "stream",
          "text": [
            "100%|██████████| 26/26 [00:02<00:00, 10.42it/s]\n",
            "  4%|▍         | 1/26 [00:00<00:02,  9.84it/s]"
          ],
          "name": "stderr"
        },
        {
          "output_type": "stream",
          "text": [
            "--------------- Epoch 41 ---------------\n"
          ],
          "name": "stdout"
        },
        {
          "output_type": "stream",
          "text": [
            "100%|██████████| 26/26 [00:02<00:00, 10.86it/s]\n",
            "  8%|▊         | 2/26 [00:00<00:02, 10.47it/s]"
          ],
          "name": "stderr"
        },
        {
          "output_type": "stream",
          "text": [
            "--------------- Epoch 42 ---------------\n"
          ],
          "name": "stdout"
        },
        {
          "output_type": "stream",
          "text": [
            "100%|██████████| 26/26 [00:02<00:00, 10.67it/s]\n",
            "  0%|          | 0/26 [00:00<?, ?it/s]"
          ],
          "name": "stderr"
        },
        {
          "output_type": "stream",
          "text": [
            "--------------- Epoch 43 ---------------\n"
          ],
          "name": "stdout"
        },
        {
          "output_type": "stream",
          "text": [
            "100%|██████████| 26/26 [00:02<00:00, 10.71it/s]\n",
            "  8%|▊         | 2/26 [00:00<00:02, 10.99it/s]"
          ],
          "name": "stderr"
        },
        {
          "output_type": "stream",
          "text": [
            "--------------- Epoch 44 ---------------\n"
          ],
          "name": "stdout"
        },
        {
          "output_type": "stream",
          "text": [
            "100%|██████████| 26/26 [00:02<00:00, 10.53it/s]\n",
            "  8%|▊         | 2/26 [00:00<00:02, 10.34it/s]"
          ],
          "name": "stderr"
        },
        {
          "output_type": "stream",
          "text": [
            "--------------- Epoch 45 ---------------\n"
          ],
          "name": "stdout"
        },
        {
          "output_type": "stream",
          "text": [
            "100%|██████████| 26/26 [00:02<00:00, 10.67it/s]"
          ],
          "name": "stderr"
        }
      ]
    },
    {
      "cell_type": "code",
      "metadata": {
        "id": "k5llda5jC-S7",
        "colab_type": "code",
        "colab": {}
      },
      "source": [
        "for img in images:\n",
        "  print(img.shape)"
      ],
      "execution_count": 0,
      "outputs": []
    }
  ]
}